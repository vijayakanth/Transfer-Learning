{
  "cells": [
    {
      "cell_type": "markdown",
      "metadata": {
        "id": "view-in-github",
        "colab_type": "text"
      },
      "source": [
        "<a href=\"https://colab.research.google.com/github/vijayakanth/Transfer-Learning/blob/main/teaLeave_InsceptionV3.ipynb\" target=\"_parent\"><img src=\"https://colab.research.google.com/assets/colab-badge.svg\" alt=\"Open In Colab\"/></a>"
      ]
    },
    {
      "cell_type": "code",
      "execution_count": null,
      "metadata": {
        "id": "NEZS5oG3c3Tu"
      },
      "outputs": [],
      "source": [
        "\n",
        "\n",
        "# !pip install split-folders\n",
        "\n"
      ]
    },
    {
      "cell_type": "code",
      "execution_count": 2,
      "metadata": {
        "id": "bFy3X1LXveOb"
      },
      "outputs": [],
      "source": [
        "from tensorflow.keras.applications.inception_v3 import InceptionV3\n",
        "from keras.preprocessing.image import ImageDataGenerator,load_img\n",
        "from keras.layers import Activation, Dropout, Flatten, Dense,Input\n",
        "from sklearn.model_selection  import train_test_split,KFold\n",
        "from tensorflow.keras import regularizers\n",
        "from keras.layers import Conv2D, MaxPooling2D\n",
        "from tensorflow.keras.models import Model\n",
        "from tensorflow.keras.utils import to_categorical\n",
        "from tensorflow.keras import utils as np_utils\n",
        "# from tensorflow.keras.applications.vgg16 import VGG16\n",
        "from matplotlib import pyplot\n",
        "from keras.models import Sequential\n",
        "import tensorflow as tf\n",
        "from keras import backend as K\n",
        "from tensorflow.keras.optimizers import Adam\n",
        "import tensorflow.keras\n",
        "import numpy as np\n",
        "import glob\n",
        "import cv2\n",
        "import os"
      ]
    },
    {
      "cell_type": "code",
      "execution_count": 3,
      "metadata": {
        "colab": {
          "base_uri": "https://localhost:8080/"
        },
        "id": "C9lIPmrvKy6D",
        "outputId": "63fb032b-46e2-4098-a7c5-41bd442e2048"
      },
      "outputs": [
        {
          "output_type": "stream",
          "name": "stdout",
          "text": [
            "Mounted at /content/drive\n"
          ]
        }
      ],
      "source": [
        "from google.colab import drive\n",
        "drive.mount('/content/drive')\n",
        "\n"
      ]
    },
    {
      "cell_type": "code",
      "execution_count": 1,
      "metadata": {
        "id": "JvBYauEXSMvx"
      },
      "outputs": [],
      "source": [
        "# def getImages(no_of_classes):\n",
        "#     disease_images = []\n",
        "#     labels = []\n",
        "#     i = 0\n",
        "#     for disease_image_path in glob.glob(\"/content/drive/MyDrive/ColabNotebooks/data/teaLeaveDisease/*\"):\n",
        "#         disease_label = disease_image_path.split(\"/\")[-1]\n",
        "#         if no_of_classes == i:\n",
        "#             break\n",
        "#         for image_path in glob.glob(os.path.join(disease_image_path, \"*.jpg\")):\n",
        "#             # image = cv2.imread(image_path, cv2.IMREAD_COLOR)\n",
        "#             image = cv2.imread(image_path)\n",
        "#             image = cv2.resize(image, (224, 224),interpolation = cv2.INTER_CUBIC)\n",
        "#             # image = cv2.cvtColor(image, cv2.COLOR_RGB2BGR)\n",
        "\n",
        "#             disease_images.append(image)\n",
        "#             labels.append(disease_label)\n",
        "#         i = i + 1\n",
        "\n",
        "#     disease_images = np.array(disease_images)\n",
        "#     labels = np.array(labels)\n",
        "#     label_to_id_dict = {v: i for i, v in enumerate(np.unique(labels))}\n",
        "#     id_to_label_dict = {v: k for k, v in label_to_id_dict.items()}\n",
        "\n",
        "#     label_ids = np.array([label_to_id_dict[x] for x in labels])\n",
        "#     disease_images.shape, label_ids.shape, labels.shape\n",
        "\n",
        "#     print (\"Total Images : \" +  str(disease_images.shape[0]))\n",
        "#     # print (\"Total Labels : \" +  str(label_ids))\n",
        "#     return disease_images, label_ids"
      ]
    },
    {
      "cell_type": "code",
      "execution_count": null,
      "metadata": {
        "id": "sBzzvByzXZvo"
      },
      "outputs": [],
      "source": [
        "# disease, labels = getImages(6)\n"
      ]
    },
    {
      "cell_type": "code",
      "execution_count": null,
      "metadata": {
        "id": "e1vnXx0iYOXT"
      },
      "outputs": [],
      "source": [
        "# # dimensions of our images.\n",
        "Image_size = [299,299]\n",
        "# img_width, img_height=224,224\n",
        "batchSize=32"
      ]
    },
    {
      "cell_type": "code",
      "execution_count": null,
      "metadata": {
        "id": "ahBvGLHBLnUE"
      },
      "outputs": [],
      "source": [
        "#augmentation ,we will use for training and not in validation and testing\n",
        "train_datagen= ImageDataGenerator(rescale=1./255,\n",
        "    rotation_range=20,\n",
        "    width_shift_range=0.2,\n",
        "    height_shift_range=0.2,\n",
        "    shear_range=0.2,\n",
        "    zoom_range=0.2,\n",
        "    horizontal_flip=True,\n",
        "    fill_mode='nearest')\n",
        "\n",
        "valid_datagen = ImageDataGenerator(rescale=1. / 255)\n",
        "test_datagen = ImageDataGenerator(rescale=1. / 255)\n"
      ]
    },
    {
      "cell_type": "code",
      "execution_count": null,
      "metadata": {
        "id": "szPZ7DeOYh6G",
        "colab": {
          "base_uri": "https://localhost:8080/"
        },
        "outputId": "53bf3dac-9113-467d-8dd0-5c7caf931102"
      },
      "outputs": [
        {
          "output_type": "stream",
          "name": "stdout",
          "text": [
            "['Blister_blight', 'Spider_mites', 'Black_blight', 'Gray_blight', 'Algal_leaf_spot', 'Healthy_leaf']\n"
          ]
        }
      ],
      "source": [
        "# import splitfolders\n",
        "# import os\n",
        "# path = \"/content/drive/MyDrive/ColabNotebooks/data/teaLeaveDisease/\"\n",
        "# print(os.listdir(path))"
      ]
    },
    {
      "cell_type": "code",
      "execution_count": null,
      "metadata": {
        "id": "Qwg5x1NOdsD0",
        "colab": {
          "base_uri": "https://localhost:8080/"
        },
        "outputId": "eb3b0a70-30b5-4195-8a1c-193b6f5aa826"
      },
      "outputs": [
        {
          "output_type": "stream",
          "name": "stderr",
          "text": [
            "Copying files: 1104 files [00:19, 55.35 files/s]\n"
          ]
        }
      ],
      "source": [
        "# splitfolders.ratio(path,seed=1337, output=\"/content/drive/MyDrive/ColabNotebooks/data/disease-Splitted\", ratio=(0.7, 0.1, 0.2))"
      ]
    },
    {
      "cell_type": "code",
      "source": [
        "train=\"/content/drive/MyDrive/ColabNotebooks/data/disease-Splitted/train\"\n",
        "val=\"/content/drive/MyDrive/ColabNotebooks/data/disease-Splitted/val\"\n",
        "test=\"/content/drive/MyDrive/ColabNotebooks/data/disease-Splitted/test\"\n",
        "#Training dataset\n",
        "train_set = train_datagen.flow_from_directory(\n",
        "                train,\n",
        "                 target_size=Image_size,\n",
        "                batch_size=batchSize,\n",
        "                interpolation='bicubic',\n",
        "                class_mode='categorical',\n",
        "                shuffle=True)\n",
        "#Validation dataset\n",
        "valid_set= valid_datagen.flow_from_directory(\n",
        "              val,\n",
        "              target_size=Image_size,\n",
        "              batch_size=batchSize,\n",
        "              interpolation='bicubic',\n",
        "              class_mode='categorical',\n",
        "              shuffle=True)\n",
        "#Testing dataset\n",
        "test_set= test_datagen.flow_from_directory(\n",
        "              test,\n",
        "              target_size=Image_size,\n",
        "              batch_size=1,\n",
        "              interpolation='bicubic',\n",
        "              class_mode='categorical',\n",
        "              shuffle=False)"
      ],
      "metadata": {
        "colab": {
          "base_uri": "https://localhost:8080/"
        },
        "id": "mOUFSofDSLok",
        "outputId": "7e7ef404-3022-427c-8ede-6ab8a3c3f172"
      },
      "execution_count": null,
      "outputs": [
        {
          "output_type": "stream",
          "name": "stdout",
          "text": [
            "Found 770 images belonging to 6 classes.\n",
            "Found 107 images belonging to 6 classes.\n",
            "Found 227 images belonging to 6 classes.\n"
          ]
        }
      ]
    },
    {
      "cell_type": "code",
      "execution_count": null,
      "metadata": {
        "id": "WITAmK3TApne"
      },
      "outputs": [],
      "source": [
        "# Load pre-trained InceptionV3 model (excluding top layers)\n",
        "inception = InceptionV3(weights='imagenet', include_top=False, input_shape=(299, 299, 3))\n",
        "\n",
        "# # Freeze layers except the top ones for fine-tuning\n",
        "# for layer in inception.layers[:-10]:\n",
        "#     layer.trainable = False"
      ]
    },
    {
      "cell_type": "code",
      "execution_count": null,
      "metadata": {
        "id": "Tfjrat2BW2kn"
      },
      "outputs": [],
      "source": [
        "#don't train the existing weights\n",
        "for layer in inception.layers:\n",
        "  layer.trainable=False\n",
        "# I chose to train the top 2 inception blocks, i.e. I will freeze the first 249 layers and unfreeze the rest:\n",
        "for layer in inception.layers[:249]:\n",
        "   layer.trainable = False\n",
        "for layer in inception.layers[249:]:\n",
        "   layer.trainable = True\n",
        "\n",
        "x=Flatten()(inception.output)\n",
        "x=Dense(512,activation='relu',kernel_regularizer=regularizers.l1(0.001))(x)\n",
        "x=Dense(256,activation='relu',kernel_regularizer=regularizers.l1(0.001))(x)\n",
        "x=Dropout(rate=0.3)(x)\n",
        "prediction=Dense(6,activation='softmax')(x)\n",
        "model=Model(inputs=inception.input,outputs=prediction)"
      ]
    },
    {
      "cell_type": "code",
      "execution_count": null,
      "metadata": {
        "id": "Xj1DXjeWYt93"
      },
      "outputs": [],
      "source": [
        "# model.summary()"
      ]
    },
    {
      "cell_type": "code",
      "execution_count": null,
      "metadata": {
        "id": "RdDKTmlXdE5L"
      },
      "outputs": [],
      "source": [
        " # Adam optinization\n",
        "opt =Adam(learning_rate=0.0001)\n",
        "model.compile(loss='categorical_crossentropy',\n",
        "                  optimizer=opt,\n",
        "                  metrics=['accuracy'])"
      ]
    },
    {
      "cell_type": "code",
      "execution_count": null,
      "metadata": {
        "id": "dz0UKNAHBOdz"
      },
      "outputs": [],
      "source": [
        "# from tensorflow.keras.optimizers import SGD\n",
        "# model.compile(optimizer=SGD(lr=0.0001, momentum=0.9), loss='categorical_crossentropy',metrics=['accuracy'])"
      ]
    },
    {
      "cell_type": "code",
      "execution_count": null,
      "metadata": {
        "id": "o3znUVyHLjlT",
        "colab": {
          "base_uri": "https://localhost:8080/"
        },
        "outputId": "098463bb-8630-41d6-cbe9-db605ec5a62b"
      },
      "outputs": [
        {
          "output_type": "stream",
          "name": "stdout",
          "text": [
            "Epoch 1/50\n",
            "24/24 - 191s - loss: 4.5596 - accuracy: 0.9878 - val_loss: 4.6523 - val_accuracy: 0.9375 - 191s/epoch - 8s/step\n",
            "Epoch 2/50\n",
            "24/24 - 171s - loss: 4.6145 - accuracy: 0.9756 - val_loss: 6.1059 - val_accuracy: 0.9167 - 171s/epoch - 7s/step\n",
            "Epoch 3/50\n",
            "24/24 - 172s - loss: 5.3314 - accuracy: 0.9824 - val_loss: 4.7288 - val_accuracy: 0.9271 - 172s/epoch - 7s/step\n",
            "Epoch 4/50\n",
            "24/24 - 191s - loss: 4.1982 - accuracy: 0.9946 - val_loss: 4.1812 - val_accuracy: 0.9167 - 191s/epoch - 8s/step\n",
            "Epoch 5/50\n",
            "24/24 - 174s - loss: 4.4175 - accuracy: 0.9756 - val_loss: 6.0360 - val_accuracy: 0.9583 - 174s/epoch - 7s/step\n",
            "Epoch 6/50\n",
            "24/24 - 188s - loss: 5.2280 - accuracy: 0.9878 - val_loss: 4.8174 - val_accuracy: 0.8958 - 188s/epoch - 8s/step\n",
            "Epoch 7/50\n",
            "24/24 - 172s - loss: 4.1299 - accuracy: 0.9851 - val_loss: 5.6550 - val_accuracy: 0.8750 - 172s/epoch - 7s/step\n",
            "Epoch 8/50\n",
            "24/24 - 181s - loss: 6.5705 - accuracy: 0.9607 - val_loss: 7.8995 - val_accuracy: 0.9271 - 181s/epoch - 8s/step\n",
            "Epoch 9/50\n",
            "24/24 - 176s - loss: 6.9851 - accuracy: 0.9661 - val_loss: 7.8352 - val_accuracy: 0.9271 - 176s/epoch - 7s/step\n",
            "Epoch 10/50\n",
            "24/24 - 193s - loss: 6.4839 - accuracy: 0.9702 - val_loss: 7.2485 - val_accuracy: 0.8750 - 193s/epoch - 8s/step\n",
            "Epoch 11/50\n",
            "24/24 - 193s - loss: 6.0669 - accuracy: 0.9702 - val_loss: 5.3414 - val_accuracy: 0.9271 - 193s/epoch - 8s/step\n",
            "Epoch 12/50\n",
            "24/24 - 178s - loss: 5.0212 - accuracy: 0.9824 - val_loss: 5.0391 - val_accuracy: 0.9167 - 178s/epoch - 7s/step\n",
            "Epoch 13/50\n",
            "24/24 - 190s - loss: 4.6283 - accuracy: 0.9810 - val_loss: 6.8245 - val_accuracy: 0.9375 - 190s/epoch - 8s/step\n",
            "Epoch 14/50\n",
            "24/24 - 179s - loss: 6.8694 - accuracy: 0.9783 - val_loss: 5.9390 - val_accuracy: 0.9167 - 179s/epoch - 7s/step\n"
          ]
        }
      ],
      "source": [
        "history=model.fit(\n",
        "                  train_set,\n",
        "                  steps_per_epoch=train_set.samples // batchSize,\n",
        "                  epochs=100,\n",
        "                  validation_data=valid_set,\n",
        "                  validation_steps=valid_set.samples // batchSize, callbacks=[tf.keras.callbacks.EarlyStopping\n",
        "\t                            (monitor='val_loss',patience=10)], verbose=2 )\n",
        "\n",
        "\n"
      ]
    },
    {
      "cell_type": "code",
      "execution_count": null,
      "metadata": {
        "id": "kD3_dCks0BCx",
        "colab": {
          "base_uri": "https://localhost:8080/"
        },
        "outputId": "c04c3387-b49c-47de-b055-2f9863fadc2b"
      },
      "outputs": [
        {
          "output_type": "stream",
          "name": "stdout",
          "text": [
            "227/227 [==============================] - 45s 187ms/step - loss: 5.8336 - accuracy: 0.9515\n"
          ]
        },
        {
          "output_type": "execute_result",
          "data": {
            "text/plain": [
              "[5.833595275878906, 0.9515418410301208]"
            ]
          },
          "metadata": {},
          "execution_count": 35
        }
      ],
      "source": [
        "model.evaluate(test_set,steps=len(test_set))"
      ]
    },
    {
      "cell_type": "code",
      "source": [
        "from sklearn.metrics import classification_report, accuracy_score\n",
        "# Evaluate the model on test data\n",
        "true_labels = test_set.classes\n",
        "predicted_labels = model.predict(test_set)\n",
        "predicted_labels = tf.argmax(predicted_labels, axis=1).numpy()\n",
        "\n",
        "# Calculate accuracy\n",
        "accuracy = accuracy_score(true_labels, predicted_labels)\n",
        "print(f\"Accuracy: {accuracy:.4f}\")\n",
        "\n",
        "# Generate classification report including precision, recall, and F1-score for each class\n",
        "report = classification_report(true_labels, predicted_labels)\n",
        "print(\"Classification Report:\\n\", report)"
      ],
      "metadata": {
        "id": "USMd7nsZfg0v"
      },
      "execution_count": null,
      "outputs": []
    },
    {
      "cell_type": "code",
      "execution_count": null,
      "metadata": {
        "id": "4yrqVldgvAgo"
      },
      "outputs": [],
      "source": [
        "# new_model=tf.keras.models.load_model('/content/drive/MyDrive/ColabNotebooks_tranferLearning/first_try_01_Model_InsceptionV3.h5')\n",
        "# new_model.evaluate(test_set)"
      ]
    },
    {
      "cell_type": "code",
      "execution_count": null,
      "metadata": {
        "id": "gdx2mGMbdRV2"
      },
      "outputs": [],
      "source": [
        "model.save_weights('/content/drive/MyDrive/ColabNotebooks/512_256_weights_InsceptionV3.h5')\n",
        "model.save('/content/drive/MyDrive/ColabNotebooks/512_256_InsceptionV3.h5')"
      ]
    },
    {
      "cell_type": "code",
      "source": [
        "import tensorflow as tf\n",
        "import numpy as np\n",
        "import matplotlib.pyplot as plt\n",
        "from tensorflow.keras.preprocessing import image\n",
        "from tensorflow.keras.applications.densenet import preprocess_input\n",
        "\n",
        "# Load DenseNet-201 model (pre-trained on ImageNet)\n",
        "model_path ='/content/drive/MyDrive/ColabNotebooks/512_256_InsceptionV3.h5'\n",
        "load_model = tf.keras.models.load_model(model_path)\n",
        "\n",
        "# Choose an image path for which you want to generate the heatmap\n",
        "image_path = '/content/drive/MyDrive/Spider_mites.jpg'  # Replace with the path to your image\n",
        "\n",
        "# Load and preprocess the image\n",
        "img = image.load_img(image_path, target_size=(229,229))\n",
        "x = image.img_to_array(img)\n",
        "x = np.expand_dims(x, axis=0)\n",
        "x = preprocess_input(x)\n",
        "\n",
        "# Get the predictions for the image\n",
        "preds = load_model.predict(x)\n",
        "predicted_class = np.argmax(preds[0])\n",
        "print(\"Predicted class:\", predicted_class)\n",
        "\n",
        "# Get the output of the last convolutional layer in the model\n",
        "last_conv_layer = load_model.get_layer('conv5_block32_concat')  # Choose the appropriate layer from your model\n",
        "\n",
        "# Create a model that maps the input image to the activations of the last conv layer\n",
        "heatmap_model = tf.keras.models.Model([load_model.inputs], [last_conv_layer.output, load_model.output])\n",
        "\n",
        "# Compute the gradients of the top predicted class with respect to the output feature map\n",
        "with tf.GradientTape() as tape:\n",
        "    conv_outputs, predictions = heatmap_model(x)\n",
        "    loss = predictions[:, predicted_class]\n",
        "\n",
        "grads = tape.gradient(loss, conv_outputs)\n",
        "pooled_grads = tf.reduce_mean(grads, axis=(0, 1, 2))\n",
        "\n",
        "# Multiply each channel in the feature map array by \"how important this channel is\" regarding the class\n",
        "heatmap = tf.reduce_mean(tf.multiply(conv_outputs, pooled_grads[..., tf.newaxis]), axis=-1)\n",
        "heatmap = np.maximum(heatmap, 0)  # ReLU to eliminate negative values\n",
        "heatmap /= np.max(heatmap)  # Normalize values to range [0, 1]\n",
        "\n",
        "# Resize heatmap to the original image size\n",
        "heatmap = tf.image.resize(heatmap, (img.size[1], img.size[0]))\n",
        "\n",
        "# Plot the original image with the heatmap overlay\n",
        "plt.figure(figsize=(8, 6))\n",
        "plt.imshow(img)\n",
        "plt.imshow(heatmap[0], alpha=0.5, cmap='jet')\n",
        "plt.colorbar()\n",
        "plt.show()"
      ],
      "metadata": {
        "id": "NAqQ-S25o4ag",
        "colab": {
          "base_uri": "https://localhost:8080/",
          "height": 391
        },
        "outputId": "232ef5b2-ca1c-43bc-fff7-5b5a5aa75e3c"
      },
      "execution_count": null,
      "outputs": [
        {
          "output_type": "error",
          "ename": "OSError",
          "evalue": "No file or directory found at /content/drive/MyDrive/ColabNotebooks/512_256_InsceptionV3.keras",
          "traceback": [
            "\u001b[0;31m---------------------------------------------------------------------------\u001b[0m",
            "\u001b[0;31mOSError\u001b[0m                                   Traceback (most recent call last)",
            "\u001b[0;32m<ipython-input-2-618ca7c68c20>\u001b[0m in \u001b[0;36m<cell line: 9>\u001b[0;34m()\u001b[0m\n\u001b[1;32m      7\u001b[0m \u001b[0;31m# Load DenseNet-201 model (pre-trained on ImageNet)\u001b[0m\u001b[0;34m\u001b[0m\u001b[0;34m\u001b[0m\u001b[0m\n\u001b[1;32m      8\u001b[0m \u001b[0mmodel_path\u001b[0m \u001b[0;34m=\u001b[0m\u001b[0;34m'/content/drive/MyDrive/ColabNotebooks/512_256_InsceptionV3.keras'\u001b[0m\u001b[0;34m\u001b[0m\u001b[0;34m\u001b[0m\u001b[0m\n\u001b[0;32m----> 9\u001b[0;31m \u001b[0mload_model\u001b[0m \u001b[0;34m=\u001b[0m \u001b[0mtf\u001b[0m\u001b[0;34m.\u001b[0m\u001b[0mkeras\u001b[0m\u001b[0;34m.\u001b[0m\u001b[0mmodels\u001b[0m\u001b[0;34m.\u001b[0m\u001b[0mload_model\u001b[0m\u001b[0;34m(\u001b[0m\u001b[0mmodel_path\u001b[0m\u001b[0;34m)\u001b[0m\u001b[0;34m\u001b[0m\u001b[0;34m\u001b[0m\u001b[0m\n\u001b[0m\u001b[1;32m     10\u001b[0m \u001b[0;34m\u001b[0m\u001b[0m\n\u001b[1;32m     11\u001b[0m \u001b[0;31m# Choose an image path for which you want to generate the heatmap\u001b[0m\u001b[0;34m\u001b[0m\u001b[0;34m\u001b[0m\u001b[0m\n",
            "\u001b[0;32m/usr/local/lib/python3.10/dist-packages/keras/src/saving/saving_api.py\u001b[0m in \u001b[0;36mload_model\u001b[0;34m(filepath, custom_objects, compile, safe_mode, **kwargs)\u001b[0m\n\u001b[1;32m    260\u001b[0m \u001b[0;34m\u001b[0m\u001b[0m\n\u001b[1;32m    261\u001b[0m     \u001b[0;31m# Legacy case.\u001b[0m\u001b[0;34m\u001b[0m\u001b[0;34m\u001b[0m\u001b[0m\n\u001b[0;32m--> 262\u001b[0;31m     return legacy_sm_saving_lib.load_model(\n\u001b[0m\u001b[1;32m    263\u001b[0m         \u001b[0mfilepath\u001b[0m\u001b[0;34m,\u001b[0m \u001b[0mcustom_objects\u001b[0m\u001b[0;34m=\u001b[0m\u001b[0mcustom_objects\u001b[0m\u001b[0;34m,\u001b[0m \u001b[0mcompile\u001b[0m\u001b[0;34m=\u001b[0m\u001b[0mcompile\u001b[0m\u001b[0;34m,\u001b[0m \u001b[0;34m**\u001b[0m\u001b[0mkwargs\u001b[0m\u001b[0;34m\u001b[0m\u001b[0;34m\u001b[0m\u001b[0m\n\u001b[1;32m    264\u001b[0m     )\n",
            "\u001b[0;32m/usr/local/lib/python3.10/dist-packages/keras/src/utils/traceback_utils.py\u001b[0m in \u001b[0;36merror_handler\u001b[0;34m(*args, **kwargs)\u001b[0m\n\u001b[1;32m     68\u001b[0m             \u001b[0;31m# To get the full stack trace, call:\u001b[0m\u001b[0;34m\u001b[0m\u001b[0;34m\u001b[0m\u001b[0m\n\u001b[1;32m     69\u001b[0m             \u001b[0;31m# `tf.debugging.disable_traceback_filtering()`\u001b[0m\u001b[0;34m\u001b[0m\u001b[0;34m\u001b[0m\u001b[0m\n\u001b[0;32m---> 70\u001b[0;31m             \u001b[0;32mraise\u001b[0m \u001b[0me\u001b[0m\u001b[0;34m.\u001b[0m\u001b[0mwith_traceback\u001b[0m\u001b[0;34m(\u001b[0m\u001b[0mfiltered_tb\u001b[0m\u001b[0;34m)\u001b[0m \u001b[0;32mfrom\u001b[0m \u001b[0;32mNone\u001b[0m\u001b[0;34m\u001b[0m\u001b[0;34m\u001b[0m\u001b[0m\n\u001b[0m\u001b[1;32m     71\u001b[0m         \u001b[0;32mfinally\u001b[0m\u001b[0;34m:\u001b[0m\u001b[0;34m\u001b[0m\u001b[0;34m\u001b[0m\u001b[0m\n\u001b[1;32m     72\u001b[0m             \u001b[0;32mdel\u001b[0m \u001b[0mfiltered_tb\u001b[0m\u001b[0;34m\u001b[0m\u001b[0;34m\u001b[0m\u001b[0m\n",
            "\u001b[0;32m/usr/local/lib/python3.10/dist-packages/keras/src/saving/legacy/save.py\u001b[0m in \u001b[0;36mload_model\u001b[0;34m(filepath, custom_objects, compile, options)\u001b[0m\n\u001b[1;32m    232\u001b[0m                     \u001b[0;32mif\u001b[0m \u001b[0misinstance\u001b[0m\u001b[0;34m(\u001b[0m\u001b[0mfilepath_str\u001b[0m\u001b[0;34m,\u001b[0m \u001b[0mstr\u001b[0m\u001b[0;34m)\u001b[0m\u001b[0;34m:\u001b[0m\u001b[0;34m\u001b[0m\u001b[0;34m\u001b[0m\u001b[0m\n\u001b[1;32m    233\u001b[0m                         \u001b[0;32mif\u001b[0m \u001b[0;32mnot\u001b[0m \u001b[0mtf\u001b[0m\u001b[0;34m.\u001b[0m\u001b[0mio\u001b[0m\u001b[0;34m.\u001b[0m\u001b[0mgfile\u001b[0m\u001b[0;34m.\u001b[0m\u001b[0mexists\u001b[0m\u001b[0;34m(\u001b[0m\u001b[0mfilepath_str\u001b[0m\u001b[0;34m)\u001b[0m\u001b[0;34m:\u001b[0m\u001b[0;34m\u001b[0m\u001b[0;34m\u001b[0m\u001b[0m\n\u001b[0;32m--> 234\u001b[0;31m                             raise IOError(\n\u001b[0m\u001b[1;32m    235\u001b[0m                                 \u001b[0;34mf\"No file or directory found at {filepath_str}\"\u001b[0m\u001b[0;34m\u001b[0m\u001b[0;34m\u001b[0m\u001b[0m\n\u001b[1;32m    236\u001b[0m                             )\n",
            "\u001b[0;31mOSError\u001b[0m: No file or directory found at /content/drive/MyDrive/ColabNotebooks/512_256_InsceptionV3.keras"
          ]
        }
      ]
    },
    {
      "cell_type": "code",
      "execution_count": null,
      "metadata": {
        "id": "gH0paQkJge2p"
      },
      "outputs": [],
      "source": [
        "def loss(history):\n",
        "  #plot loss\n",
        "  pyplot.subplot(211)\n",
        "  pyplot.title('Cross Entropy Loss')\n",
        "  pyplot.xlabel('Epochs')\n",
        "  pyplot.ylabel('Loss')\n",
        "  pyplot.plot(history.history['loss'], color='blue', label='training')\n",
        "  pyplot.plot(history.history['val_loss'], color='orange', label='validation')\n",
        "  pyplot.legend()\n",
        "def accuracy(history):\n",
        "  #plot accuracy\n",
        "  pyplot.subplot(212)\n",
        "  pyplot.title('Classification Accuracy')\n",
        "  pyplot.xlabel('Epochs')\n",
        "  pyplot.ylabel('accuracy')\n",
        "  pyplot.plot(history.history['accuracy'], color='blue', label='training')\n",
        "  pyplot.plot(history.history['val_accuracy'], color='orange', label='validation')\n",
        "  pyplot.legend()"
      ]
    },
    {
      "cell_type": "code",
      "execution_count": null,
      "metadata": {
        "id": "5apZnXc3iltS"
      },
      "outputs": [],
      "source": [
        "loss(history)"
      ]
    },
    {
      "cell_type": "code",
      "execution_count": null,
      "metadata": {
        "id": "pRhw6uufjDJN"
      },
      "outputs": [],
      "source": [
        "accuracy(history)"
      ]
    }
  ],
  "metadata": {
    "accelerator": "GPU",
    "colab": {
      "provenance": [],
      "gpuType": "T4",
      "include_colab_link": true
    },
    "kernelspec": {
      "display_name": "Python 3",
      "name": "python3"
    }
  },
  "nbformat": 4,
  "nbformat_minor": 0
}